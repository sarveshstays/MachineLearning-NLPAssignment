{
 "cells": [
  {
   "cell_type": "code",
   "execution_count": 8,
   "metadata": {
    "collapsed": true
   },
   "outputs": [],
   "source": [
    "from bs4 import BeautifulSoup\n",
    "from collections import Counter\n",
    "from string import punctuation\n",
    "import urllib.request\n",
    "import nltk"
   ]
  },
  {
   "cell_type": "code",
   "execution_count": 9,
   "metadata": {},
   "outputs": [],
   "source": [
    "response = urllib.request.urlopen('http://php.net/')\n",
    "html = response.read()\n",
    "soup = BeautifulSoup(html,\"html5lib\")"
   ]
  },
  {
   "cell_type": "code",
   "execution_count": 26,
   "metadata": {},
   "outputs": [],
   "source": [
    "x = [s for s in soup.findAll('p')]\n",
    "#print(x)"
   ]
  },
  {
   "cell_type": "code",
   "execution_count": 27,
   "metadata": {},
   "outputs": [
    {
     "name": "stdout",
     "output_type": "stream",
     "text": [
      "['PHP is a popular general-purpose scripting language that is especially suited to web development.']\n"
     ]
    }
   ],
   "source": [
    "print(x[0].findAll(text=True))"
   ]
  },
  {
   "cell_type": "code",
   "execution_count": 28,
   "metadata": {},
   "outputs": [],
   "source": [
    "text = (''.join(s.findAll(text=True))for s in soup.findAll('p'))\n",
    "#abc = [x for y in text for x in y.split()]\n",
    "#print(abc[0].rstrip(punctuation).lower())"
   ]
  },
  {
   "cell_type": "code",
   "execution_count": 29,
   "metadata": {},
   "outputs": [
    {
     "name": "stdout",
     "output_type": "stream",
     "text": [
      "[('the', 102), ('php', 59), ('of', 54), ('this', 34), ('release', 34), ('for', 34), ('and', 33), ('in', 29), ('is', 27), ('can', 27), ('to', 24), ('on', 24), ('be', 23), ('downloads', 19), ('a', 18), ('development', 18), ('source', 18), ('list', 18), ('found', 17), ('7.2.0', 17), ('you', 15), ('please', 13), ('windows', 13), ('changes', 13), ('team', 12), ('announces', 12), ('immediate', 12), ('availability', 12), ('all', 12), ('visit', 12), ('our', 12), ('page', 12), ('binaries', 12), ('users', 11), ('are', 11), ('encouraged', 11), ('version', 11), ('candidate', 11), ('bugs', 10), ('security', 10), ('read', 10), ('file', 10), ('upgrading', 10), ('also', 10), ('recorded', 7), ('changelog', 7), ('bug', 7), ('it', 7), ('new', 7), ('features', 7), ('several', 6), ('upgrade', 6), ('windows.php.net/download', 6), ('releases', 6), ('will', 6), ('or', 6), ('news', 6), ('were', 5), ('fixed', 5), ('test', 5), ('carefully', 5), ('report', 5), ('any', 5), ('incompatibilities', 5), ('tracking', 5), ('system', 5), ('preview', 5), ('', 5), ('do', 5), ('not', 5), ('use', 5), ('production', 5), ('information', 5), ('other', 5), ('complete', 5), ('notes', 5), ('these', 5), ('files', 5), ('archive', 5), ('download', 5), ('sources', 5), ('windows.php.net/qa', 5), ('full', 5), ('planned', 5), ('wiki', 5), ('thank', 5), ('helping', 5), ('us', 5), ('make', 5), ('better', 5), ('3', 5), ('more', 4), ('at', 4), ('beta', 4), ('7.1', 3), ('fixes', 3), ('7.2', 3), ('7.0', 3), ('first', 3), ('released', 3), ('alpha', 3), ('popular', 2), ('7.1.14', 2), ('bugfix', 2), ('7.2.2', 2), ('with', 2), ('5.6.33', 2), ('7.1.13', 2), ('7.2.1', 2), ('7.0.27', 2), ('marks', 2), ('support', 2), ('branch', 2), ('migration', 2), ('second', 2), ('improvements', 2), ('thanks', 2), ('next', 2), ('announced', 2), ('october', 2), ('third', 2), ('1', 2), ('general-purpose', 1), ('scripting', 1), ('language', 1), ('that', 1), ('especially', 1), ('suited', 1), ('web', 1), ('fast', 1), ('flexible', 1), ('pragmatic', 1), ('powers', 1), ('everything', 1), ('from', 1), ('your', 1), ('blog', 1), ('most', 1), ('websites', 1), ('world', 1), ('included', 1), ('5.6', 1), ('end', 1), ('two', 1), ('years', 1), ('active', 1), ('period', 1), ('further', 1), ('issued', 1), ('demand', 1), ('contain', 1), ('only', 1), ('critical', 1), ('relevant', 1), ('provided', 1), ('till', 1), ('december', 1), ('3rd', 1), ('2018', 1), ('good', 1), ('time', 1), ('plan', 1), ('feature', 1), ('update', 1), ('7', 1), ('series', 1), ('comes', 1), ('numerous', 1), ('such', 1), ('as', 1), ('site', 1), ('guide', 1), ('available', 1), ('manual', 1), ('consult', 1), ('detailed', 1), ('backward', 1), ('incompatible', 1), ('many', 1), ('contributors', 1), ('supporters', 1), ('rc4', 1), ('fourth', 1), ('4', 1), ('26th', 1), ('rc3', 1), ('12th', 1), ('14th', 1), ('september', 1), ('final', 1), ('31th', 1), ('august', 1), ('contains', 1), ('relative', 1), ('2', 1), ('20th', 1), ('july', 1), ('older', 1), ('entries', 1), ('user', 1), ('group', 1), ('events', 1), ('special', 1), ('social', 1), ('media', 1)]\n"
     ]
    }
   ],
   "source": [
    "c = Counter((x.rstrip(punctuation).lower() for y in text for x in y.split()))\n",
    "print (c.most_common()) # prints most common words staring at most common."
   ]
  },
  {
   "cell_type": "code",
   "execution_count": 30,
   "metadata": {},
   "outputs": [
    {
     "name": "stdout",
     "output_type": "stream",
     "text": [
      "['php', 'is', 'a', 'to', 'development', 'and', 'the', 'in', 'team', 'announces', 'immediate', 'availability', 'of', 'this', 'release', 'several', 'bugs', 'all', 'users', 'are', 'encouraged', 'upgrade', 'version', 'for', 'source', 'downloads', 'please', 'visit', 'our', 'page', 'windows', 'binaries', 'can', 'be', 'found', 'on', 'windows.php.net/download', 'list', 'changes', 'recorded', 'changelog', 'bug', 'security', 'releases', 'will', 'it', 'or', '7.2.0', 'new', 'features', 'candidate', 'you', 'read', 'news', 'file', 'upgrading', 'also']\n"
     ]
    }
   ],
   "source": [
    "print ([x for x in c if c.get(x) > 5]) # words appearing more than 5 times"
   ]
  },
  {
   "cell_type": "code",
   "execution_count": null,
   "metadata": {
    "collapsed": true
   },
   "outputs": [],
   "source": []
  }
 ],
 "metadata": {
  "kernelspec": {
   "display_name": "Python 3",
   "language": "python",
   "name": "python3"
  },
  "language_info": {
   "codemirror_mode": {
    "name": "ipython",
    "version": 3
   },
   "file_extension": ".py",
   "mimetype": "text/x-python",
   "name": "python",
   "nbconvert_exporter": "python",
   "pygments_lexer": "ipython3",
   "version": "3.6.3"
  }
 },
 "nbformat": 4,
 "nbformat_minor": 2
}
